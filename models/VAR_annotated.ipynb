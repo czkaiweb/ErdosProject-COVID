{
 "cells": [
  {
   "cell_type": "code",
   "execution_count": null,
   "id": "07cd5908-c55b-4dee-9da5-8f400a018715",
   "metadata": {},
   "outputs": [],
   "source": [
    "#import packages\n",
    "from statsmodels.tsa.api import VAR\n",
    "import pandas as pd\n",
    "import matplotlib.pyplot as plt\n",
    "from time_series_validation import load_states\n",
    "import numpy as np"
   ]
  },
  {
   "cell_type": "code",
   "execution_count": null,
   "id": "c2afd6ca-4c14-42f1-835d-b17f1515294b",
   "metadata": {},
   "outputs": [],
   "source": [
    "#defining the states in New England. Make a data frame with just the New England states, indexed by date\n",
    "\n",
    "covid_states, state_list = load_states()\n",
    "new_england = [\"MA\",\"ME\",\"NH\",\"VT\",\"RI\",\"CT\"]\n",
    "df = pd.DataFrame(np.array([covid_states[state].beds for state in new_england]).transpose(),\n",
    "            columns=new_england,\n",
    "                 index=covid_states[\"MA\"].date)\n",
    "# Get the number of new hospital beds used per day by subtracting a day's totals from the previous day's totals\n",
    "# Get rid of data from after 8/31/21 to keep as test data for later on\n",
    "df_diff = df.copy()\n",
    "for state in new_england:\n",
    "    df_diff[state] = df[state].diff(1)\n",
    "df_diff = df_diff.iloc[1:].copy()\n",
    "df_diff = df_diff.iloc[df_diff.index < \"2021-09-01\"].copy()"
   ]
  },
  {
   "cell_type": "code",
   "execution_count": null,
   "id": "9d365efa-4f93-4dbd-82ed-54a72d93077e",
   "metadata": {},
   "outputs": [],
   "source": [
    "lag_order = 4 # This is the number of previous days the model is predicting on.\n",
    "# Use days n-4, n-3, n-2, n-1 to predict day n, then use days n-3, n-2, n-1, n (where day n comes from last prediction)\n",
    "#to predict day n+1...keep going until 31 days into the future\n",
    "future = 31\n",
    "model = VAR(df_diff.values)\n",
    "results = model.fit(lag_order)\n",
    "predictions = results.forecast(df_diff.values[-lag_order:], future)"
   ]
  },
  {
   "cell_type": "code",
   "execution_count": null,
   "id": "c70111b9-7d6b-4967-8330-546ec9ad2924",
   "metadata": {},
   "outputs": [],
   "source": [
    "for state_num in range(len(new_england)):\n",
    "    state_info = df[new_england[state_num]].loc[df.index < \"2021-10-01\"]\n",
    "\n",
    "    # Un-difference the sequence\n",
    "    predicted = np.cumsum(predictions[:,state_num]) + state_info.loc[\"2021-08-31\"]\n",
    "    \n",
    "    num_actual = len(state_info)\n",
    "    plt.figure(figsize=(8,8))\n",
    "    plt.plot(range(num_actual),state_info, label=\"actual\")\n",
    "    plt.plot(range(len(df_diff), len(df_diff)+future), predicted, label=\"predicted\")\n",
    "    plt.legend()\n",
    "    plt.title(new_england[state_num])\n",
    "    plt.show()"
   ]
  },
  {
   "cell_type": "code",
   "execution_count": null,
   "id": "5743bc7f-958b-441a-b789-264e50ed66a9",
   "metadata": {},
   "outputs": [],
   "source": [
    "print(predictions[:,5])"
   ]
  }
 ],
 "metadata": {
  "kernelspec": {
   "display_name": "Python 3",
   "language": "python",
   "name": "python3"
  },
  "language_info": {
   "codemirror_mode": {
    "name": "ipython",
    "version": 3
   },
   "file_extension": ".py",
   "mimetype": "text/x-python",
   "name": "python",
   "nbconvert_exporter": "python",
   "pygments_lexer": "ipython3",
   "version": "3.8.8"
  }
 },
 "nbformat": 4,
 "nbformat_minor": 5
}
