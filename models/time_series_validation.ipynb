{
 "cells": [
  {
   "cell_type": "code",
   "execution_count": null,
   "id": "af171df5-5294-4671-b951-9e642d612ec3",
   "metadata": {},
   "outputs": [],
   "source": [
    "from sklearn.linear_model import Ridge, LinearRegression\n",
    "from xgboost import XGBRegressor\n",
    "from sklearn.pipeline import Pipeline\n",
    "from sklearn.preprocessing import StandardScaler\n",
    "import pandas as pd\n",
    "import numpy as np\n",
    "import matplotlib.pyplot as plt\n",
    "from sklearn.model_selection import GridSearchCV, cross_validate\n",
    "import datetime as dt\n",
    "\n",
    "# Some custom functions\n",
    "from time_series_validation import date_to_int, load_states, \\\n",
    "        plot_predictions, validate, FuturePrediction, plot_predictions\n",
    "\n",
    "_default_date_format = \"%Y-%m-%d\""
   ]
  },
  {
   "cell_type": "code",
   "execution_count": null,
   "id": "4f18ab88-9cb6-49eb-ab49-b91c4df31607",
   "metadata": {},
   "outputs": [],
   "source": [
    "covid_state, state_list = load_states()"
   ]
  },
  {
   "cell_type": "code",
   "execution_count": null,
   "id": "926d5319-1581-430e-be8c-6357cbcdc656",
   "metadata": {},
   "outputs": [],
   "source": [
    "regressor = Pipeline([('scaler', StandardScaler()),\n",
    "                ('ridge', Ridge(alpha=10))])\n",
    "\n",
    "param_grid = {\"ridge__alpha\":[1.2**n for n in range(40)]}\n",
    "train_length = 10\n",
    "future_interval = 14\n",
    "interval = 5\n",
    "max_lag = 1\n",
    "\n",
    "validate(covid_state, regressor, train_length,\n",
    "             future_interval, max_lag, interval, param_grid,\n",
    "        plot=False)"
   ]
  },
  {
   "cell_type": "code",
   "execution_count": null,
   "id": "feebda05-ee5e-4b5e-88de-7371ffcb2e09",
   "metadata": {},
   "outputs": [],
   "source": [
    "regressor = XGBRegressor()\n",
    "\n",
    "param_grid = {\"n_estimators\":[50],\n",
    "             #\"max_depth\": [1],#, 12, 16, 20],\n",
    "             \"learning_rate\": [10**n for n in range(-2,-1)],\n",
    "             \"booster\": [\"gblinear\"]}\n",
    "             #\"gamma\": [0]}\n",
    "train_length = 20\n",
    "future_interval = 14\n",
    "interval = 60\n",
    "max_lag = 1\n",
    "\n",
    "validate(covid_state, regressor, train_length,\n",
    "             future_interval, max_lag, interval, param_grid,\n",
    "        plot=True)"
   ]
  }
 ],
 "metadata": {
  "kernelspec": {
   "display_name": "Python 3 (ipykernel)",
   "language": "python",
   "name": "python3"
  },
  "language_info": {
   "codemirror_mode": {
    "name": "ipython",
    "version": 3
   },
   "file_extension": ".py",
   "mimetype": "text/x-python",
   "name": "python",
   "nbconvert_exporter": "python",
   "pygments_lexer": "ipython3",
   "version": "3.9.5"
  }
 },
 "nbformat": 4,
 "nbformat_minor": 5
}
