{
 "cells": [
  {
   "cell_type": "code",
   "execution_count": 74,
   "id": "0c816b56-a1ed-42a4-8b36-33a3e3b90712",
   "metadata": {},
   "outputs": [],
   "source": [
    "import pandas as pd\n",
    "import numpy as np\n",
    "import matplotlib.pyplot as plt\n",
    "\n",
    "\n",
    "import matplotlib.pyplot as plt\n",
    "import seaborn as sns\n",
    "\n",
    "sns.set_style(\"darkgrid\")"
   ]
  },
  {
   "cell_type": "code",
   "execution_count": 75,
   "id": "2843a8be-f7c3-42b4-aa4c-20978f7da2f0",
   "metadata": {},
   "outputs": [],
   "source": [
    "df=pd.read_csv('covid_data_copy.csv', usecols=['date', 'state', 'new_case', 'inpatient_beds_used', 'inpatient_beds_used_covid', 'tot_cases', 'Administered'])"
   ]
  },
  {
   "cell_type": "code",
   "execution_count": 76,
   "id": "cbe44e4f-ddbc-4c54-aadc-38e7b80e9e5a",
   "metadata": {},
   "outputs": [],
   "source": [
    "df['date']=pd.to_datetime(df['date'])\n",
    "mask=df['date']<=pd.to_datetime('2021-08-31')\n",
    "df2=df[mask].copy()\n",
    "mask=df2['date']>=pd.to_datetime('2020-03-28')\n",
    "df3=df2[mask].copy()\n",
    "\n"
   ]
  },
  {
   "cell_type": "code",
   "execution_count": 77,
   "id": "6c8ac2c8-67f3-4070-8f73-4a54804480d7",
   "metadata": {},
   "outputs": [],
   "source": [
    "mask=df3['state']=='ME'\n",
    "df3.loc[mask,'state']='new_england'\n",
    "mask=df3['state']=='RI'\n",
    "df3.loc[mask,'state']='new_england'\n",
    "mask=df3['state']=='VT'\n",
    "df3.loc[mask,'state']='new_england'\n",
    "mask=df3['state']=='CT'\n",
    "df3.loc[mask,'state']='new_england'\n",
    "mask=df3['state']=='NH'\n",
    "df3.loc[mask,'state']='new_england'\n",
    "mask=df3['state']=='MA'\n",
    "df3.loc[mask,'state']='new_england'"
   ]
  },
  {
   "cell_type": "code",
   "execution_count": 78,
   "id": "5c50076d-1798-4177-a648-961cd19206f6",
   "metadata": {},
   "outputs": [],
   "source": [
    "dfne=df3[df3['state'] == 'new_england']"
   ]
  },
  {
   "cell_type": "code",
   "execution_count": 79,
   "id": "cce37ad1-9115-4ed1-96e4-767d3649b9c7",
   "metadata": {},
   "outputs": [],
   "source": [
    "dfne2=dfne.groupby(by=[\"date\",\"state\"]).sum()"
   ]
  },
  {
   "cell_type": "code",
   "execution_count": 86,
   "id": "4519e70f-af6d-4f1e-8aa3-a097382bec65",
   "metadata": {},
   "outputs": [],
   "source": [
    "dfne2.to_csv('covid_data_new_england.csv')"
   ]
  },
  {
   "cell_type": "code",
   "execution_count": 87,
   "id": "10ab1a23-ebd5-4367-8659-e68bb664ed7f",
   "metadata": {},
   "outputs": [],
   "source": [
    "dfne3=pd.read_csv('covid_data_new_england.csv', usecols=['date', 'state', 'new_case', 'inpatient_beds_used', 'inpatient_beds_used_covid', 'tot_cases', 'Administered'])"
   ]
  },
  {
   "cell_type": "code",
   "execution_count": 89,
   "id": "6a19dcb2-7e32-4e76-81bf-a495433f5da5",
   "metadata": {},
   "outputs": [],
   "source": [
    "from sklearn.model_selection import KFold\n",
    "from sklearn.linear_model import LinearRegression\n",
    "from sklearn.base import clone"
   ]
  },
  {
   "cell_type": "code",
   "execution_count": null,
   "id": "746deefd-a161-486f-a169-55b80422200f",
   "metadata": {},
   "outputs": [],
   "source": [
    "dfne_lag=dfne3['Administered'].shift(14)"
   ]
  },
  {
   "cell_type": "code",
   "execution_count": 90,
   "id": "85c7f77a-66a4-4808-a0cb-cac6d40c564b",
   "metadata": {},
   "outputs": [],
   "source": [
    "dfne3 = dfne3.assign(Administered_lag=dfne_lag.values)"
   ]
  },
  {
   "cell_type": "code",
   "execution_count": 93,
   "id": "1c168b49-8a69-4cc5-88b3-a6f92cdd50c0",
   "metadata": {},
   "outputs": [],
   "source": [
    "dfne3['date']=pd.to_datetime(dfne3['date'])"
   ]
  },
  {
   "cell_type": "code",
   "execution_count": 94,
   "id": "ee762ca7-5a60-4146-904a-c8f80172b656",
   "metadata": {},
   "outputs": [],
   "source": [
    "mask=dfne3['date']<=pd.to_datetime('2021-08-17')\n",
    "dfne4=dfne3[mask].copy()\n",
    "mask=dfne4['date']>=pd.to_datetime('2020-04-11')\n",
    "dfne5=dfne4[mask].copy()"
   ]
  },
  {
   "cell_type": "code",
   "execution_count": 96,
   "id": "4c132b73-14e9-47f2-af17-6496fc92dd9f",
   "metadata": {},
   "outputs": [],
   "source": [
    "for value in dfne5['Administered_lag']:\n",
    "    value=int(value)"
   ]
  },
  {
   "cell_type": "code",
   "execution_count": 97,
   "id": "4f572d29-a0b9-4443-b25f-cb0c0465adc5",
   "metadata": {},
   "outputs": [],
   "source": [
    "dfne5_train = dfne5.sample(frac=.8, random_state=8675309).copy()\n",
    "dfne5_test = dfne5.drop(dfne5.index).copy()"
   ]
  },
  {
   "cell_type": "code",
   "execution_count": 98,
   "id": "6b0a87a1-e4d2-4933-8e4f-45e6a4489817",
   "metadata": {},
   "outputs": [],
   "source": [
    "reg = LinearRegression(copy_X=True)\n",
    "kfold = KFold(n_splits=5, shuffle=True, random_state=440)"
   ]
  },
  {
   "cell_type": "code",
   "execution_count": 99,
   "id": "7a6898df-bbac-4b9b-895c-97198131d4df",
   "metadata": {},
   "outputs": [],
   "source": [
    "reg = LinearRegression(copy_X=True)\n",
    "\n",
    "reg.fit(dfne5_train[['tot_cases','new_case', 'Administered_lag']], dfne5_train['inpatient_beds_used_covid'])\n",
    "\n",
    "errors = reg.predict(dfne5_train[['tot_cases','new_case', 'Administered_lag']]) - dfne5_train['inpatient_beds_used_covid']"
   ]
  },
  {
   "cell_type": "code",
   "execution_count": 100,
   "id": "62fbb42b-52f2-4c3e-aaed-050c322e093a",
   "metadata": {},
   "outputs": [
    {
     "data": {
      "image/png": "[encoded data removed]",
      "text/plain": [
       "<Figure size 576x432 with 1 Axes>"
      ]
     },
     "metadata": {},
     "output_type": "display_data"
    }
   ],
   "source": [
    "sns.set(font_scale=1)\n",
    "plt.figure(figsize=(8,6))\n",
    "\n",
    "plt.scatter(reg.predict(dfne5_train[['tot_cases','new_case', 'Administered_lag']]), errors)\n",
    "\n",
    "plt.xlabel(\"Predicted\", fontsize=16)\n",
    "plt.ylabel(\"Errors\", fontsize=16)\n",
    "\n",
    "plt.show()"
   ]
  },
  {
   "cell_type": "code",
   "execution_count": null,
   "id": "b0509365-269b-43b1-8ea7-49a28c0fa861",
   "metadata": {},
   "outputs": [],
   "source": []
  }
 ],
 "metadata": {
  "kernelspec": {
   "display_name": "Python 3",
   "language": "python",
   "name": "python3"
  },
  "language_info": {
   "codemirror_mode": {
    "name": "ipython",
    "version": 3
   },
   "file_extension": ".py",
   "mimetype": "text/x-python",
   "name": "python",
   "nbconvert_exporter": "python",
   "pygments_lexer": "ipython3",
   "version": "3.8.8"
  }
 },
 "nbformat": 4,
 "nbformat_minor": 5
}
