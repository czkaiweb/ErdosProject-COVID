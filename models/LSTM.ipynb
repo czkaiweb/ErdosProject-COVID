{
 "cells": [
  {
   "cell_type": "code",
   "execution_count": null,
   "id": "ca9d17bd",
   "metadata": {},
   "outputs": [],
   "source": [
    "from LSTM import *"
   ]
  },
  {
   "cell_type": "code",
   "execution_count": null,
   "id": "19c1d3cb",
   "metadata": {},
   "outputs": [],
   "source": [
    "covid_state, state_list = load_states()\n",
    "print(covid_state[\"OH\"].head())\n",
    "\n",
    "ts = TimeSeries()\n",
    "ts.setDataFrame(covid_state[\"AZ\"][1:])\n",
    "ts.setColumns([\"beds\",\"cases\",\"vaccines\",\"cases_7day\"])\n",
    "ts.splitData()\n",
    "ts.normalizeData()\n",
    "ts.displayColumns([\"beds\"])\n",
    "ts.displayColumns([\"cases\"])"
   ]
  },
  {
   "cell_type": "code",
   "execution_count": null,
   "id": "2b879f68",
   "metadata": {},
   "outputs": [],
   "source": [
    "ts.setWindowLength(label_columns=[\"beds\"])\n",
    "ts.setDataset(batch_size=32)\n",
    "ts.setWindowLength(input_width = 28, label_width = 10, shift = 10,label_columns = [\"beds\"])\n",
    "ts.generateWindow()\n",
    "#ts.createWindow()\n",
    "#ts.train.element_spec"
   ]
  },
  {
   "cell_type": "code",
   "execution_count": null,
   "id": "6ed4fbec",
   "metadata": {},
   "outputs": [],
   "source": [
    "for example_inputs, example_labels in ts.test.take(1):\n",
    "    print(f'Inputs shape (batch, time, features): {example_inputs.shape}')\n",
    "    print(f'Labels shape (batch, time, features): {example_labels.shape}')\n",
    "    \n",
    "example_labels = tf.reshape(example_labels,[example_labels.shape[0],-1])\n",
    "example_labels"
   ]
  },
  {
   "cell_type": "code",
   "execution_count": null,
   "id": "de174021",
   "metadata": {},
   "outputs": [],
   "source": [
    "column_indices = ts.getColumnIndices()\n",
    "print(column_indices)"
   ]
  },
  {
   "cell_type": "code",
   "execution_count": null,
   "id": "f6105c5b",
   "metadata": {},
   "outputs": [],
   "source": [
    "class Baseline(tf.keras.Model):\n",
    "    def __init__(self, label_index=None):\n",
    "        super().__init__()\n",
    "        self.label_index = label_index\n",
    "\n",
    "    def call(self, inputs):\n",
    "        if self.label_index is None:\n",
    "            return inputs\n",
    "        result = inputs[:, :, self.label_index]\n",
    "        return result[:, :, tf.newaxis]\n",
    "    \n",
    "baseline = Baseline(label_index=column_indices['beds'])\n",
    "baseline.compile(loss=tf.losses.MeanSquaredError(),\n",
    "                 metrics=[tf.metrics.MeanAbsoluteError()])\n",
    "val_performance = {}\n",
    "performance = {}\n",
    "ts.val\n",
    "val_performance['Baseline'] = baseline.evaluate(ts.val)\n",
    "performance['Baseline'] = baseline.evaluate(ts.test, verbose=0)"
   ]
  },
  {
   "cell_type": "code",
   "execution_count": null,
   "id": "f9974afa",
   "metadata": {},
   "outputs": [],
   "source": []
  },
  {
   "cell_type": "code",
   "execution_count": null,
   "id": "de9ad00a",
   "metadata": {},
   "outputs": [],
   "source": [
    "MAX_EPOCHS = 50\n",
    "def compile_and_fit(model, window, patience=2):\n",
    "    early_stopping = tf.keras.callbacks.EarlyStopping(monitor='val_loss',\n",
    "                                                    patience=patience,\n",
    "                                                    mode='min')\n",
    "    model.compile(loss=tf.losses.MeanSquaredError(),\n",
    "                optimizer=tf.optimizers.Adam(),\n",
    "                metrics=[tf.metrics.MeanAbsoluteError()])\n",
    "    history = model.fit(window.train, epochs=MAX_EPOCHS,\n",
    "                      validation_data=window.val,\n",
    "                      callbacks=[early_stopping])\n",
    "    return history\n",
    "\n",
    "import IPython\n",
    "import IPython.display    \n"
   ]
  },
  {
   "cell_type": "code",
   "execution_count": null,
   "id": "a85c483c",
   "metadata": {},
   "outputs": [],
   "source": [
    "lstm_model = tf.keras.models.Sequential([\n",
    "    # Shape [batch, time, features] => [batch, time, lstm_units]\n",
    "    tf.keras.layers.LSTM(32, return_sequences=False),\n",
    "    # Shape => [batch, time, features]\n",
    "    tf.keras.layers.Dense(units=10),\n",
    "    #tf.keras.layers.Dense(units=2),\n",
    "    #tf.keras.layers.Reshape((None,2,1))\n",
    "])\n",
    "\n",
    "history = compile_and_fit(lstm_model, ts)\n",
    "\n",
    "#IPython.display.clear_output()\n",
    "val_performance = {}\n",
    "performance = {}\n",
    "val_performance['LSTM'] = lstm_model.evaluate(ts.val)\n",
    "performance['LSTM'] = lstm_model.evaluate(ts.test, verbose=0)\n",
    "\n",
    "ts.plot(lstm_model)\n"
   ]
  },
  {
   "cell_type": "code",
   "execution_count": null,
   "id": "0d8f86ba",
   "metadata": {},
   "outputs": [],
   "source": [
    "inputs, labels = next(iter(ts.train))\n",
    "labels\n",
    "lstm_model.predict(inputs)"
   ]
  },
  {
   "cell_type": "code",
   "execution_count": null,
   "id": "e1e811e1",
   "metadata": {},
   "outputs": [],
   "source": [
    "plot_col_index = ts.column_indices[\"beds\"]\n",
    "inputs,labels = ts.example\n",
    "plt.plot(ts.input_indices, inputs[0, :, 1],label='Inputs', marker='.', zorder=-10)\n"
   ]
  },
  {
   "cell_type": "code",
   "execution_count": null,
   "id": "8b741df7",
   "metadata": {},
   "outputs": [],
   "source": [
    "plt.scatter(ts.label_indices, labels[0, -(len(ts.label_indices)):, 0],\n",
    "                edgecolors='k', label='Labels', c='#2ca02c', s=64)"
   ]
  },
  {
   "cell_type": "code",
   "execution_count": null,
   "id": "74612171",
   "metadata": {},
   "outputs": [],
   "source": [
    "ts.plot(lstm_model,plot_col='beds', max_subplots=10)"
   ]
  },
  {
   "cell_type": "code",
   "execution_count": null,
   "id": "028c4fa8",
   "metadata": {},
   "outputs": [],
   "source": [
    "ts.DataFrame\n",
    "ts.DataFrame.drop(columns=\"day_number\")\n",
    "#ts.DataFrame"
   ]
  },
  {
   "cell_type": "code",
   "execution_count": null,
   "id": "bbdd1bb6",
   "metadata": {},
   "outputs": [],
   "source": []
  }
 ],
 "metadata": {
  "kernelspec": {
   "display_name": "Python 3.7.10 64-bit ('Erdos': conda)",
   "language": "python",
   "name": "python371064biterdosconda7530abd590984c45ba6372cad090cba4"
  },
  "language_info": {
   "codemirror_mode": {
    "name": "ipython",
    "version": 3
   },
   "file_extension": ".py",
   "mimetype": "text/x-python",
   "name": "python",
   "nbconvert_exporter": "python",
   "pygments_lexer": "ipython3",
   "version": "3.7.10"
  }
 },
 "nbformat": 4,
 "nbformat_minor": 5
}
