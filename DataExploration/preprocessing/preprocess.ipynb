{
 "cells": [
  {
   "cell_type": "code",
   "execution_count": 1,
   "id": "f562e6c5-ec89-49ed-8a86-a678d61b97db",
   "metadata": {},
   "outputs": [],
   "source": [
    "import pandas as pd\n",
    "import numpy as np\n",
    "import datetime as dt\n",
    "from os.path import isdir, join\n",
    "from os import mkdir\n",
    "\n",
    "_default_date_format = \"%Y-%m-%d\""
   ]
  },
  {
   "cell_type": "code",
   "execution_count": 2,
   "id": "165bd099-ecb4-4919-b2f8-fd93f3793e5d",
   "metadata": {},
   "outputs": [],
   "source": [
    "# Some helper functions\n",
    "def date_to_int(date_string, form=_default_date_format):\n",
    "    \"\"\"Return date date_string in format form as an integer\"\"\"\n",
    "    return dt.datetime.strptime(date_string, form).toordinal()\n",
    "\n",
    "def int_to_date(ordinal, form=_default_date_format):\n",
    "    \"\"\"Return the day number ordinal to as a string, formatted with form\"\"\"\n",
    "    return dt.datetime.fromordinal(ordinal).strftime(form)"
   ]
  },
  {
   "cell_type": "code",
   "execution_count": 3,
   "id": "88f7cac5-63db-48ca-bd1d-3454e1903894",
   "metadata": {},
   "outputs": [
    {
     "name": "stdout",
     "output_type": "stream",
     "text": [
      "cases date range:            2020-01-22 to 2021-10-17\n",
      "hospitalizations date range: 2020-01-01 to 2021-10-19\n",
      "vaccinations date range:     2020-12-13 to 2021-10-19\n",
      "\n",
      "Using dates 2020-03-28 to 2021-10-17\n",
      "CPU times: user 21.2 s, sys: 15.9 ms, total: 21.2 s\n",
      "Wall time: 21.2 s\n"
     ]
    }
   ],
   "source": [
    "%%time\n",
    "# Read in data and adjust a few features\n",
    "# This takes a little time to run (~20 seconds on my desktop)\n",
    "hospitalizations = pd.read_csv(\"COVID-19_Reported_Patient_Impact\"\\\n",
    "                    \"_and_Hospital_Capacity_by_State_Timeseries.csv\").copy()\n",
    "cases = pd.read_csv(\"United_States_COVID-19_Cases\"\\\n",
    "                    \"_and_Deaths_by_State_over_Time.csv\").copy()\n",
    "vaccinations = pd.read_csv(\"COVID-19_Vaccinations\"\\\n",
    "                           \"_in_the_United_States_Jurisdiction.csv\").copy()\n",
    "\n",
    "cases.rename({\"submission_date\": \"date\"}, axis=1, inplace=True)\n",
    "vaccinations.rename({\"Date\": \"date\",\n",
    "                    \"Location\": \"state\"}, axis=1, inplace=True)\n",
    "\n",
    "hospitalizations[\"day_number\"] = hospitalizations.date.copy()\n",
    "cases[\"day_number\"] = cases.date.copy()\n",
    "vaccinations[\"day_number\"] = vaccinations.date.copy()\n",
    "for n in hospitalizations.index:\n",
    "    hospitalizations.loc[n, \"day_number\"] = date_to_int(\n",
    "                                hospitalizations.loc[n,\"date\"], \"%Y/%m/%d\")\n",
    "for n in cases.index:\n",
    "    cases.loc[n, \"day_number\"] = date_to_int(\n",
    "                                cases.loc[n, \"date\"], \"%m/%d/%Y\")\n",
    "for n in vaccinations.index:\n",
    "    vaccinations.loc[n, \"day_number\"] = date_to_int(\n",
    "                                vaccinations.loc[n, \"date\"], \"%m/%d/%Y\")\n",
    "\n",
    "print(\"cases date range:           \",\n",
    "      int_to_date(cases.day_number.min()),\n",
    "      \"to\",\n",
    "      int_to_date(cases.day_number.max()))\n",
    "print(\"hospitalizations date range:\",\n",
    "      int_to_date(hospitalizations.day_number.min()),\n",
    "      \"to\",\n",
    "      int_to_date(hospitalizations.day_number.max()))\n",
    "print(\"vaccinations date range:    \",\n",
    "      int_to_date(vaccinations.day_number.min()),\n",
    "      \"to\",\n",
    "      int_to_date(vaccinations.day_number.max()))\n",
    "\n",
    "# Data is spotty until then\n",
    "start_date = date_to_int(\"2020-03-28\")\n",
    "end_date = cases.day_number.max()\n",
    "\n",
    "print()\n",
    "print(\"Using dates\",\n",
    "     int_to_date(start_date),\n",
    "     \"to\",\n",
    "     int_to_date(end_date))\n",
    "\n",
    "date_range = range(start_date, end_date+1)\n",
    "\n",
    "state_list = list(hospitalizations.state.unique())\n",
    "state_list.remove(\"VI\") # Incomplete\n",
    "state_list.remove(\"AS\") # Incomplete\n",
    "\n",
    "# 50 states plus DC and Puerto Rico\n",
    "assert len(state_list) == 52 "
   ]
  },
  {
   "cell_type": "code",
   "execution_count": 4,
   "id": "3520a127-0a81-405b-b5fa-4604575a406d",
   "metadata": {},
   "outputs": [
    {
     "name": "stdout",
     "output_type": "stream",
     "text": [
      "CPU times: user 1min 8s, sys: 16.3 ms, total: 1min 8s\n",
      "Wall time: 1min 8s\n"
     ]
    }
   ],
   "source": [
    "%%time\n",
    "# Vaccination data start on 2020-12-13, but there's no real data until\n",
    "# the next day. Fill in missing values with 0.\n",
    "# For some reason this is pretty slow (~1 min), probably could be optimized\n",
    "first_vaccine = vaccinations.day_number.min() + 1\n",
    "series = pd.Series(0, index=vaccinations.columns).copy()\n",
    "for date in date_range:\n",
    "    if date >= first_vaccine:\n",
    "        break\n",
    "    series.date = int_to_date(date)\n",
    "    series.day_number = date\n",
    "    for state in state_list:\n",
    "        series.state = state\n",
    "        vaccinations = vaccinations.append(series.copy(), ignore_index=True)"
   ]
  },
  {
   "cell_type": "code",
   "execution_count": 5,
   "id": "10ffae73-3c74-4d07-bb59-6b97e28cd11b",
   "metadata": {},
   "outputs": [],
   "source": [
    "# Trim date ranges and states\n",
    "hospitalizations = hospitalizations.loc[(hospitalizations.day_number >= start_date) \\\n",
    "                                & (hospitalizations.day_number <= end_date)].copy()\n",
    "cases = cases.loc[(cases.day_number >= start_date) &\\\n",
    "                  (cases.day_number <= end_date)].copy()\n",
    "vaccinations = vaccinations.loc[(vaccinations.day_number >= start_date) &\\\n",
    "                                (vaccinations.day_number <= end_date)].copy()\n",
    "hospitalizations = hospitalizations.loc[[(state in state_list)\\\n",
    "                                 for state in hospitalizations.state]].copy()\n",
    "cases = cases.loc[[(state in state_list) for state in cases.state]].copy()\n",
    "vaccinations = vaccinations.loc[[(state in state_list)\\\n",
    "                                 for state in vaccinations.state]].copy()\n",
    "\n",
    "assert len(cases) == len(hospitalizations) == len(vaccinations) \\\n",
    "                  == len(date_range)*len(state_list)\n",
    "\n",
    "# Sort data frames by date and location, reindex starting from 0\n",
    "hospitalizations = hospitalizations.sort_values([\"day_number\",\"state\"]).reset_index(drop=True).copy()\n",
    "cases = cases.sort_values([\"day_number\",\"state\"]).reset_index(drop=True).copy()\n",
    "vaccinations = vaccinations.sort_values([\"day_number\",\"state\"]).reset_index(drop=True).copy()\n",
    "\n",
    "# The dates and locations among the three data frames should now be aligned\n",
    "assert np.all(hospitalizations.state == cases.state)\n",
    "assert np.all(hospitalizations.state == vaccinations.state)\n",
    "assert np.all(hospitalizations.day_number == cases.day_number)\n",
    "assert np.all(hospitalizations.day_number == vaccinations.day_number)\n",
    "\n",
    "# Create a new data frame with combined data\n",
    "covid = hospitalizations.join(cases.drop([\"date\", \"state\", \"day_number\"], axis=1)).copy()\n",
    "covid = covid.join(vaccinations.drop([\"date\", \"state\", \"day_number\"], axis=1)).copy()\n",
    "\n",
    "covid.date = [int_to_date(date) for date in covid.day_number]\n",
    "\n",
    "# Show these three columns first\n",
    "covid = covid[[\"day_number\", \"date\", \"state\"] \\\n",
    "              + list(covid.columns.drop([\"day_number\", \"date\", \"state\"]))]\n",
    "\n",
    "# Some columns have no data\n",
    "covid.drop([\"consent_cases\",\n",
    "            \"consent_deaths\",\n",
    "            \"conf_death\",\n",
    "            \"prob_death\",\n",
    "            \"conf_cases\",\n",
    "            \"prob_cases\",\n",
    "            \"geocoded_state\"], axis=1, inplace=True)\n",
    "\n",
    "# Separate data by state\n",
    "covid_state = {}\n",
    "for state in state_list:\n",
    "    covid_state[state] = covid.loc[covid.state == state].reset_index(drop=True).copy()"
   ]
  },
  {
   "cell_type": "code",
   "execution_count": 6,
   "id": "2b55ef65-f852-4113-81e1-cc623bb513a5",
   "metadata": {},
   "outputs": [],
   "source": [
    "# Write data to .csv files\n",
    "covid.to_csv(\"covid_data.csv\", index=False)\n",
    "\n",
    "if not isdir(\"states\"):\n",
    "    mkdir(\"states\")\n",
    "for state in state_list:\n",
    "    covid_state[state].to_csv(join(\"states\", f\"{state}.csv\"), index=False)"
   ]
  }
 ],
 "metadata": {
  "kernelspec": {
   "display_name": "Python 3 (ipykernel)",
   "language": "python",
   "name": "python3"
  },
  "language_info": {
   "codemirror_mode": {
    "name": "ipython",
    "version": 3
   },
   "file_extension": ".py",
   "mimetype": "text/x-python",
   "name": "python",
   "nbconvert_exporter": "python",
   "pygments_lexer": "ipython3",
   "version": "3.9.5"
  }
 },
 "nbformat": 4,
 "nbformat_minor": 5
}
